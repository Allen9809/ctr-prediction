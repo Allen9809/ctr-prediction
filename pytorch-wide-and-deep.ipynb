{
 "cells": [
  {
   "cell_type": "markdown",
   "id": "374330d7-848a-43a6-a7a0-c9c3a1e343f8",
   "metadata": {},
   "source": [
    "# CTR prediction with wide and deep model\n",
    "\n",
    "In this notebook, I show how to build a wide and deep model with 3 hidden layers in the deep part of the model. The model is trained 15 epochs using the Avazu CTR prediction dataset. The training yields a log loss of 0.3958 over the test dataset.\n",
    "\n",
    "### Brief introduction of the dataset\n",
    "The dataset I used in this project is the famous [Avazu CTR dataset](https://www.kaggle.com/c/avazu-ctr-prediction) from Kaggle\n",
    "\n",
    "From the overview on the Kaggle page, the data fields in this dataset are:\n",
    "- id: ad identifier\n",
    "- click: 0/1 for non-click/click\n",
    "- hour: format is YYMMDDHH, so 14091123 means 23:00 on Sept. 11, 2014 UTC.\n",
    "- C1 -- anonymized categorical variable\n",
    "- banner_pos\n",
    "- site_id\n",
    "- site_domain\n",
    "- site_category\n",
    "- app_id\n",
    "- app_domain\n",
    "- app_category\n",
    "- device_id\n",
    "- device_ip\n",
    "- device_model\n",
    "- device_type\n",
    "- device_conn_type\n",
    "- C14-C21 -- anonymized categorical variables\n",
    "\n",
    "All features are categorical. This is a binary classification problem where our model need to predict `click` that can be either 0 (no click) or 1 (click).\n",
    "\n",
    "This project can be separated into 2 steps as outlined below."
   ]
  },
  {
   "cell_type": "markdown",
   "id": "ac0ec751-e330-4f92-b56b-2d9e6344cd3a",
   "metadata": {},
   "source": [
    "### Step 1 - Feature engineering with Spark on K8s\n",
    "\n",
    "In this initial step, I deployed a [spark job](https://github.com/yinanli617/ctr-prediction/blob/master/docker/pyspark-ctr.py) on K8s using the [spark-on-k8s-operator](https://github.com/GoogleCloudPlatform/spark-on-k8s-operator) to -\n",
    "\n",
    "- Load the raw data;\n",
    "- Generate *wide features* and *deep features*, which will be fed to the model in the next step;\n",
    "- Split the dataset into training set and test set (7:3);\n",
    "\n",
    "#### About the features used\n",
    "\n",
    "1. Wide features:\n",
    "   - All raw features with a number of unique values below 100 are used;\n",
    "   - The following cross-product features are constructed:\n",
    "     - `hr` and `device_type`;\n",
    "     - `device_type` and `app_category`;\n",
    "     - `device_type` and `site_category`;\n",
    "     - `banner_pos` and `device_type`;\n",
    "   - The \"single\" features and the cross-product features are one-hot encoded to generate the wide features (dimension: 475).\n",
    "\n",
    "2. Deep features:\n",
    "   - Embeddings of the following features are generated and fed to the deep part of the model:\n",
    "     - `device_model` (embedding_dim: 256);\n",
    "     - `app_id` (embedding_dim: 256);\n",
    "     - `site_id` (embedding_dim: 256);\n",
    "     - `site_domain` (embedding_dim: 256);\n",
    "     - `app_domain` (embedding_dim: 128);"
   ]
  },
  {
   "cell_type": "markdown",
   "id": "da27dd82-8ffb-4fd2-ab04-8df7b002ccfb",
   "metadata": {},
   "source": [
    "### Step 2 - Training wide and deep model with PyTorch predict CTR\n",
    "\n",
    "***Note: This notebook shows how to train the model on a local laptop equipped with an Nvidia RTX2070 super max-q GPU. A slightly modified version of the codes can be found in `/pytorch_docker/wide_deep_k8s.py` which is used to deploy the pytorch job on Kubernetes. Training on K8s was done on an Nvidia Tesla K80 GPU.***\n",
    "\n",
    "Details about the model architecture:\n",
    "- The deep part of the model contains 3 hidden layers with `hidden_size = [512, 256, 128]`;\n",
    "- Relu is used as activation function in the deep part;\n",
    "- The original [paper](https://arxiv.org/abs/1606.07792) used L1 regularization for the wide part. Here, Adam optimizer is used for both wide and deep parts. However, a dropout layer with `dropout_p=0.7` is added to the wide part before merging with the deep part. The Dropout layer is meant for regularization."
   ]
  },
  {
   "cell_type": "code",
   "execution_count": 2,
   "id": "136b21dc-9f63-44b8-9316-4984680831b6",
   "metadata": {},
   "outputs": [],
   "source": [
    "import torch.nn as nn\n",
    "import torch.nn.functional as F\n",
    "import torch\n",
    "from torch.utils.data import IterableDataset, DataLoader\n",
    "import pandas as pd\n",
    "import numpy as np\n",
    "from tqdm import tqdm\n",
    "import matplotlib.pyplot as plt\n",
    "import gc\n",
    "from sklearn.metrics import roc_auc_score, accuracy_score, recall_score, precision_score\n",
    "import math\n",
    "from torch.optim.lr_scheduler import ReduceLROnPlateau, StepLR"
   ]
  },
  {
   "cell_type": "code",
   "execution_count": 3,
   "id": "9ecd9e10-d058-4cfc-ad82-54f4f8428cad",
   "metadata": {},
   "outputs": [
    {
     "name": "stdout",
     "output_type": "stream",
     "text": [
      "cuda\n",
      "GeForce RTX 2070 Super with Max-Q Design\n"
     ]
    }
   ],
   "source": [
    "# During the first step where I extract wanted features in a spark job,\n",
    "# the features that I would like to feed to the deep part of the model\n",
    "# were named as <feature_name>SEP<num_of_unique_values>SEP<embedding_dim>\n",
    "\n",
    "\n",
    "WIDE_DIM = 453\n",
    "COLUMNS = ['label',\n",
    "           'device_modelSEP8251SEP256',\n",
    "           'app_idSEP8552SEP256',\n",
    "           'site_idSEP4737SEP256',\n",
    "           'site_domainSEP7745SEP256',\n",
    "           'app_domainSEP559SEP128',\n",
    "          ]\n",
    "COLUMNS = ['wide_feature_' + str(i) for i in range(WIDE_DIM)] + COLUMNS\n",
    "EMBEDDING_INPUTS = COLUMNS[-5:]\n",
    "\n",
    "DEVICE = torch.device('cuda' if torch.cuda.is_available() else 'cpu')\n",
    "NUM_WORKERS = 6\n",
    "EPOCHS = 15\n",
    "\n",
    "print(DEVICE)\n",
    "print(torch.cuda.get_device_name(DEVICE))"
   ]
  },
  {
   "cell_type": "markdown",
   "id": "b6001d66-6dbb-4e74-8228-a76631100def",
   "metadata": {},
   "source": [
    "## Define the Wide and Deep Model Class"
   ]
  },
  {
   "cell_type": "code",
   "execution_count": 3,
   "id": "23ea72bb-d70d-48d8-9bf3-e94adf95ba99",
   "metadata": {},
   "outputs": [],
   "source": [
    "class WideAndDeep(nn.Module):\n",
    "    def __init__(self, wide_dim, embedding_inputs, hidden_layers, dropout_p=0.5):\n",
    "        super().__init__()\n",
    "        self.wide_dim = wide_dim\n",
    "        self.embedding_inputs = embedding_inputs\n",
    "        self.deep_feature_dim = 0\n",
    "        self.hidden_layers = hidden_layers\n",
    "        \n",
    "        # For each deep feature, create an embedding layer to convert them to embeddings\n",
    "        for embedding_input in self.embedding_inputs:\n",
    "            col_name, vocab_size, embed_dim = embedding_input.split('SEP')\n",
    "            setattr(self, col_name+'_emb_layer', nn.Embedding(int(vocab_size), int(embed_dim)))\n",
    "            self.deep_feature_dim += int(embed_dim)\n",
    "        \n",
    "        # A series of hidden layers that take the embeddings as input\n",
    "        self.linear_layer_1 = nn.Linear(self.deep_feature_dim, self.hidden_layers[0])\n",
    "        self.bn_1 = nn.BatchNorm1d(self.hidden_layers[0])\n",
    "        for i, hidden_layer in enumerate(self.hidden_layers[1:]):\n",
    "            setattr(self, f'linear_layer_{i+2}', nn.Linear(self.hidden_layers[i], hidden_layer))\n",
    "        \n",
    "        self.dropout = nn.Dropout(p=dropout_p)\n",
    "        \n",
    "        # Final dense layer that combine the wide features and the deep features and generate output\n",
    "        self.fc = nn.Linear(self.wide_dim+self.hidden_layers[-1], 1)\n",
    "        \n",
    "    \n",
    "    def forward(self, X_w, X_d):\n",
    "        embeddings = [getattr(self, col_name+'_emb_layer')(X_d[:, i].long())\n",
    "                      for i, embedding_input in enumerate(self.embedding_inputs)\n",
    "                      for col_name in embedding_input.split('SEP')\n",
    "                      if not col_name.isdigit()\n",
    "                     ]\n",
    "        \n",
    "        deep_out = torch.cat(embeddings, dim=-1) # concatenate the embeddings of all deep features\n",
    "        \n",
    "        for i, _ in enumerate(self.hidden_layers):\n",
    "            deep_out = F.relu(getattr(self, f'linear_layer_{i+1}')(deep_out))\n",
    "        \n",
    "        X_w = self.dropout(X_w) # Apply a dropout layer to the wide features for regularization purposes\n",
    "        fc_input = torch.cat([X_w, deep_out], dim=-1) # concatenate the wide and processed deep features\n",
    "        out = self.fc(fc_input)\n",
    "        \n",
    "        return out"
   ]
  },
  {
   "cell_type": "markdown",
   "id": "87da2bcd-639a-4bde-9611-1caac7dd2a7c",
   "metadata": {},
   "source": [
    "## Define the Dataset\n",
    "\n",
    "Since the size of the dataset is too big, I use the `pandas` package to read only a chunk of the dataset at each step which can fit in memory."
   ]
  },
  {
   "cell_type": "code",
   "execution_count": 4,
   "id": "95a748f2-ff8e-4aaf-98ce-f771228ae294",
   "metadata": {},
   "outputs": [],
   "source": [
    "# Split the dataset into <num_workers> parts, so that each worker get a unique copy of a part of the dataset\n",
    "# https://pytorch.org/docs/stable/data.html#torch.utils.data.IterableDataset\n",
    "\n",
    "class CtrDataset(IterableDataset):\n",
    "    def __init__(self, chunksize=10000, train=True):\n",
    "        super().__init__()\n",
    "        self.train = train\n",
    "        if self.train:\n",
    "            self.num_lines = 28303473 # wc -l ./train_full.csv\n",
    "            self.path = './train_full.csv'\n",
    "        else:\n",
    "            self.num_lines = 12125494 # wc -l ./validation_full.csv\n",
    "            self.path = './validation_full.csv'\n",
    "        self.chunksize = chunksize\n",
    "        self.start = 0\n",
    "        self.end = self.num_lines + self.start - 1\n",
    "    \n",
    "    def process_data(self, data):\n",
    "        for i, chunk in enumerate(data):\n",
    "            if self.start + i*chunk.shape[0] >= self.end:\n",
    "                break\n",
    "            else:\n",
    "                chunk.columns = COLUMNS\n",
    "                \n",
    "                # Don't repeat at the end of each partition\n",
    "                size = min(self.chunksize, self.end - (self.start + i*chunk.shape[0]))\n",
    "                \n",
    "                X_w = chunk.iloc[:size, :WIDE_DIM].values.astype(np.float32).squeeze()\n",
    "                X_d = chunk.iloc[:size][EMBEDDING_INPUTS].values.astype(np.float32).squeeze()\n",
    "                label = chunk.iloc[:size]['label'].values.astype(np.float32).squeeze()\n",
    "                yield X_w, X_d, label\n",
    "    \n",
    "    def __iter__(self):\n",
    "        self.df = pd.read_csv(self.path,\n",
    "                             header=None,\n",
    "                             chunksize=self.chunksize,\n",
    "                             skiprows=self.start,\n",
    "                            )\n",
    "        return self.process_data(self.df)\n",
    "\n",
    "def worker_init_fn(worker_id):\n",
    "    worker_info = torch.utils.data.get_worker_info()\n",
    "    dataset = worker_info.dataset  # the dataset copy in this worker process\n",
    "    overall_start = dataset.start\n",
    "    overall_end = dataset.end\n",
    "    # configure the dataset to only process the split workload\n",
    "    per_worker = int(math.ceil((overall_end - overall_start) / float(worker_info.num_workers)))\n",
    "    worker_id = worker_info.id\n",
    "    dataset.start = overall_start + worker_id * per_worker\n",
    "    dataset.end = min(dataset.start + per_worker, overall_end)"
   ]
  },
  {
   "cell_type": "code",
   "execution_count": 5,
   "id": "eda17415-c0e6-4a8e-ba62-5746a055aeab",
   "metadata": {},
   "outputs": [],
   "source": [
    "# A helper function to get the total number of batches\n",
    "\n",
    "def get_total(dset, dl):\n",
    "    temp = int(math.ceil((dset.end - dset.start) / float(dl.num_workers))) \n",
    "    total = int(math.ceil(temp / dset.chunksize)) * dl.num_workers\n",
    "    \n",
    "    return total"
   ]
  },
  {
   "cell_type": "markdown",
   "id": "ce7d9227-ad91-44c7-b6a8-016376eefabc",
   "metadata": {},
   "source": [
    "## Training function"
   ]
  },
  {
   "cell_type": "code",
   "execution_count": 6,
   "id": "393e7c32-f0eb-40fd-876b-0cdb2f8e45f2",
   "metadata": {},
   "outputs": [],
   "source": [
    "def training(model, train_dl, scaler, optimizer, loss_fn, train_total):\n",
    "    pbar = tqdm(train_dl, total=train_total)\n",
    "    model.train()\n",
    "    total_loss = 0\n",
    "    n = 0\n",
    "    for batch_i, (X_w, X_d, label) in enumerate(pbar):\n",
    "        X_w = X_w.squeeze().to(DEVICE, non_blocking=True)\n",
    "        X_d = X_d.squeeze().to(DEVICE, non_blocking=True)\n",
    "        label = label.squeeze().unsqueeze(1).to(DEVICE, non_blocking=True)\n",
    "        optimizer.zero_grad()\n",
    "        \n",
    "        with torch.cuda.amp.autocast():\n",
    "            outputs = model(X_w, X_d)\n",
    "            loss = loss_fn(outputs, label)\n",
    "        \n",
    "        scaler.scale(loss).backward()\n",
    "        scaler.step(optimizer)\n",
    "        scaler.update()\n",
    "\n",
    "        total_loss += loss.item() * label.shape[0]\n",
    "        n += label.shape[0]\n",
    "\n",
    "        running_loss = total_loss / n\n",
    "        pbar.set_description(f'Training Loss: {running_loss}')\n",
    "    \n",
    "    return running_loss"
   ]
  },
  {
   "cell_type": "markdown",
   "id": "fdc5ea36-7367-45ed-be95-7e16128c7e6b",
   "metadata": {},
   "source": [
    "## Validation function"
   ]
  },
  {
   "cell_type": "code",
   "execution_count": 7,
   "id": "b5ca1eab-d15e-4deb-8aae-734fa67fa4a0",
   "metadata": {},
   "outputs": [],
   "source": [
    "def validation(model, val_dl, loss_fn, val_total):\n",
    "    pbar = tqdm(val_dl, total=val_total)\n",
    "    model.eval()\n",
    "    total_loss = 0\n",
    "    n = 0\n",
    "    for batch_i, (X_w, X_d, label) in enumerate(pbar):\n",
    "        X_w = X_w.squeeze().to(DEVICE, non_blocking=True)\n",
    "        X_d = X_d.squeeze().to(DEVICE, non_blocking=True)\n",
    "        label = label.squeeze().unsqueeze(1).to(DEVICE, non_blocking=True)\n",
    "        \n",
    "        with torch.no_grad() and torch.cuda.amp.autocast():\n",
    "            outputs = model(X_w, X_d)\n",
    "            loss = loss_fn(outputs, label)\n",
    "            \n",
    "        total_loss += loss.item() * label.shape[0]\n",
    "        n += label.shape[0]\n",
    "\n",
    "        running_loss = total_loss / n\n",
    "        pbar.set_description(f'Validation Loss: {running_loss}')\n",
    "    \n",
    "    return running_loss"
   ]
  },
  {
   "cell_type": "code",
   "execution_count": 8,
   "id": "008057f3-c531-4442-a3d4-6944efe585d4",
   "metadata": {},
   "outputs": [],
   "source": [
    "def main():\n",
    "    model = WideAndDeep(wide_dim=WIDE_DIM, embedding_inputs=EMBEDDING_INPUTS, hidden_layers=[512, 256, 128],\n",
    "                    dropout_p=0.7,\n",
    "                   )\n",
    "    model.to(DEVICE)\n",
    "    \n",
    "    optimizer = torch.optim.Adam(model.parameters(),\n",
    "                                 lr=1e-3,\n",
    "    #                              weight_decay=0.01,\n",
    "                                )\n",
    "\n",
    "    loss_fn = nn.BCEWithLogitsLoss()\n",
    "    scaler = torch.cuda.amp.GradScaler() # For mixed precision training\n",
    "\n",
    "    lr_scheduler = StepLR(optimizer,\n",
    "                          step_size=5,\n",
    "                          gamma=0.1,\n",
    "                          last_epoch=-1,\n",
    "                          verbose=True,\n",
    "                         )\n",
    "\n",
    "    best_val_loss = float('inf')\n",
    "    train_losses = []\n",
    "    val_losses = []\n",
    "    for epoch in range(1, EPOCHS+1):\n",
    "        train_dset = CtrDataset(train=True, chunksize=2048)\n",
    "        train_dl = DataLoader(train_dset,\n",
    "                              batch_size=1,\n",
    "                              num_workers=NUM_WORKERS,\n",
    "                              worker_init_fn=worker_init_fn,\n",
    "                             )\n",
    "        val_dset = CtrDataset(train=False, chunksize=16384)\n",
    "        val_dl = DataLoader(val_dset,\n",
    "                            batch_size=1,\n",
    "                            num_workers=NUM_WORKERS,\n",
    "                            worker_init_fn=worker_init_fn,\n",
    "                           )\n",
    "        train_total = get_total(train_dset, train_dl)\n",
    "        val_total = get_total(val_dset, val_dl)\n",
    "        \n",
    "        print(f'=============== Epoch {epoch} ===============')\n",
    "        train_losses.append(training(model, train_dl, scaler, optimizer, loss_fn, train_total))\n",
    "        val_losses.append(validation(model, val_dl, loss_fn, val_total))\n",
    "\n",
    "        lr_scheduler.step()\n",
    "        print('\\n')\n",
    "        if val_losses[-1] < best_val_loss:\n",
    "            best_val_loss = val_losses[-1] \n",
    "            print('Best model saved.\\n')\n",
    "            torch.save(model.state_dict(), './saved_model.pt')\n",
    "    \n",
    "    return train_losses, val_losses"
   ]
  },
  {
   "cell_type": "code",
   "execution_count": 9,
   "id": "634f33a8-c811-4f2f-9533-52fff4f9dc85",
   "metadata": {},
   "outputs": [
    {
     "name": "stdout",
     "output_type": "stream",
     "text": [
      "Adjusting learning rate of group 0 to 1.0000e-03.\n",
      "=============== Epoch 1 ===============\n"
     ]
    },
    {
     "name": "stderr",
     "output_type": "stream",
     "text": [
      "Training Loss: 0.4194596427454083: 100%|██| 13824/13824 [08:03<00:00, 28.59it/s]\n",
      "Validation Loss: 0.4020986238156853: 100%|████| 744/744 [02:56<00:00,  4.22it/s]\n"
     ]
    },
    {
     "name": "stdout",
     "output_type": "stream",
     "text": [
      "Adjusting learning rate of group 0 to 1.0000e-03.\n",
      "\n",
      "\n",
      "Best model saved.\n",
      "\n",
      "=============== Epoch 2 ===============\n"
     ]
    },
    {
     "name": "stderr",
     "output_type": "stream",
     "text": [
      "Training Loss: 0.40841174710943606: 100%|█| 13824/13824 [07:51<00:00, 29.29it/s]\n",
      "Validation Loss: 0.40031580761289776: 100%|███| 744/744 [02:53<00:00,  4.29it/s]\n"
     ]
    },
    {
     "name": "stdout",
     "output_type": "stream",
     "text": [
      "Adjusting learning rate of group 0 to 1.0000e-03.\n",
      "\n",
      "\n",
      "Best model saved.\n",
      "\n",
      "=============== Epoch 3 ===============\n"
     ]
    },
    {
     "name": "stderr",
     "output_type": "stream",
     "text": [
      "Training Loss: 0.40570213808956396: 100%|█| 13824/13824 [08:12<00:00, 28.07it/s]\n",
      "Validation Loss: 0.39906330775334636: 100%|███| 744/744 [02:53<00:00,  4.30it/s]\n"
     ]
    },
    {
     "name": "stdout",
     "output_type": "stream",
     "text": [
      "Adjusting learning rate of group 0 to 1.0000e-03.\n",
      "\n",
      "\n",
      "Best model saved.\n",
      "\n",
      "=============== Epoch 4 ===============\n"
     ]
    },
    {
     "name": "stderr",
     "output_type": "stream",
     "text": [
      "Training Loss: 0.40453960445449244: 100%|█| 13824/13824 [07:56<00:00, 29.04it/s]\n",
      "Validation Loss: 0.39850517347543746: 100%|███| 744/744 [02:53<00:00,  4.28it/s]\n"
     ]
    },
    {
     "name": "stdout",
     "output_type": "stream",
     "text": [
      "Adjusting learning rate of group 0 to 1.0000e-03.\n",
      "\n",
      "\n",
      "Best model saved.\n",
      "\n",
      "=============== Epoch 5 ===============\n"
     ]
    },
    {
     "name": "stderr",
     "output_type": "stream",
     "text": [
      "Training Loss: 0.4040050215174234: 100%|██| 13824/13824 [08:11<00:00, 28.15it/s]\n",
      "Validation Loss: 0.3999672847459322: 100%|████| 744/744 [02:55<00:00,  4.25it/s]\n"
     ]
    },
    {
     "name": "stdout",
     "output_type": "stream",
     "text": [
      "Adjusting learning rate of group 0 to 1.0000e-04.\n",
      "\n",
      "\n",
      "=============== Epoch 6 ===============\n"
     ]
    },
    {
     "name": "stderr",
     "output_type": "stream",
     "text": [
      "Training Loss: 0.39644550688678437: 100%|█| 13824/13824 [08:05<00:00, 28.49it/s]\n",
      "Validation Loss: 0.39624556673071915: 100%|███| 744/744 [02:53<00:00,  4.29it/s]\n"
     ]
    },
    {
     "name": "stdout",
     "output_type": "stream",
     "text": [
      "Adjusting learning rate of group 0 to 1.0000e-04.\n",
      "\n",
      "\n",
      "Best model saved.\n",
      "\n",
      "=============== Epoch 7 ===============\n"
     ]
    },
    {
     "name": "stderr",
     "output_type": "stream",
     "text": [
      "Training Loss: 0.396088280741871: 100%|███| 13824/13824 [08:05<00:00, 28.50it/s]\n",
      "Validation Loss: 0.39611545181397784: 100%|███| 744/744 [02:54<00:00,  4.25it/s]\n"
     ]
    },
    {
     "name": "stdout",
     "output_type": "stream",
     "text": [
      "Adjusting learning rate of group 0 to 1.0000e-04.\n",
      "\n",
      "\n",
      "Best model saved.\n",
      "\n",
      "=============== Epoch 8 ===============\n"
     ]
    },
    {
     "name": "stderr",
     "output_type": "stream",
     "text": [
      "Training Loss: 0.39593181454481563: 100%|█| 13824/13824 [08:07<00:00, 28.35it/s]\n",
      "Validation Loss: 0.396045272539394: 100%|█████| 744/744 [02:58<00:00,  4.17it/s]\n"
     ]
    },
    {
     "name": "stdout",
     "output_type": "stream",
     "text": [
      "Adjusting learning rate of group 0 to 1.0000e-04.\n",
      "\n",
      "\n",
      "Best model saved.\n",
      "\n",
      "=============== Epoch 9 ===============\n"
     ]
    },
    {
     "name": "stderr",
     "output_type": "stream",
     "text": [
      "Training Loss: 0.39580195059658735: 100%|█| 13824/13824 [08:16<00:00, 27.85it/s]\n",
      "Validation Loss: 0.39599160531555694: 100%|███| 744/744 [02:55<00:00,  4.25it/s]\n"
     ]
    },
    {
     "name": "stdout",
     "output_type": "stream",
     "text": [
      "Adjusting learning rate of group 0 to 1.0000e-04.\n",
      "\n",
      "\n",
      "Best model saved.\n",
      "\n",
      "=============== Epoch 10 ===============\n"
     ]
    },
    {
     "name": "stderr",
     "output_type": "stream",
     "text": [
      "Training Loss: 0.3956952149506152: 100%|██| 13824/13824 [08:06<00:00, 28.42it/s]\n",
      "Validation Loss: 0.3959455820606816: 100%|████| 744/744 [02:54<00:00,  4.26it/s]\n"
     ]
    },
    {
     "name": "stdout",
     "output_type": "stream",
     "text": [
      "Adjusting learning rate of group 0 to 1.0000e-05.\n",
      "\n",
      "\n",
      "Best model saved.\n",
      "\n",
      "=============== Epoch 11 ===============\n"
     ]
    },
    {
     "name": "stderr",
     "output_type": "stream",
     "text": [
      "Training Loss: 0.39482214411781674: 100%|█| 13824/13824 [08:08<00:00, 28.28it/s]\n",
      "Validation Loss: 0.3958100941001549: 100%|████| 744/744 [02:53<00:00,  4.29it/s]\n"
     ]
    },
    {
     "name": "stdout",
     "output_type": "stream",
     "text": [
      "Adjusting learning rate of group 0 to 1.0000e-05.\n",
      "\n",
      "\n",
      "Best model saved.\n",
      "\n",
      "=============== Epoch 12 ===============\n"
     ]
    },
    {
     "name": "stderr",
     "output_type": "stream",
     "text": [
      "Training Loss: 0.3947667585851661: 100%|██| 13824/13824 [08:09<00:00, 28.23it/s]\n",
      "Validation Loss: 0.39578967798484943: 100%|███| 744/744 [02:56<00:00,  4.22it/s]\n"
     ]
    },
    {
     "name": "stdout",
     "output_type": "stream",
     "text": [
      "Adjusting learning rate of group 0 to 1.0000e-05.\n",
      "\n",
      "\n",
      "Best model saved.\n",
      "\n",
      "=============== Epoch 13 ===============\n"
     ]
    },
    {
     "name": "stderr",
     "output_type": "stream",
     "text": [
      "Training Loss: 0.39475172558602667: 100%|█| 13824/13824 [08:10<00:00, 28.19it/s]\n",
      "Validation Loss: 0.3957772384933947: 100%|████| 744/744 [02:57<00:00,  4.19it/s]\n"
     ]
    },
    {
     "name": "stdout",
     "output_type": "stream",
     "text": [
      "Adjusting learning rate of group 0 to 1.0000e-05.\n",
      "\n",
      "\n",
      "Best model saved.\n",
      "\n",
      "=============== Epoch 14 ===============\n"
     ]
    },
    {
     "name": "stderr",
     "output_type": "stream",
     "text": [
      "Training Loss: 0.3947477077076388: 100%|██| 13824/13824 [08:14<00:00, 27.96it/s]\n",
      "Validation Loss: 0.39577374951423927: 100%|███| 744/744 [03:07<00:00,  3.97it/s]\n"
     ]
    },
    {
     "name": "stdout",
     "output_type": "stream",
     "text": [
      "Adjusting learning rate of group 0 to 1.0000e-05.\n",
      "\n",
      "\n",
      "Best model saved.\n",
      "\n",
      "=============== Epoch 15 ===============\n"
     ]
    },
    {
     "name": "stderr",
     "output_type": "stream",
     "text": [
      "Training Loss: 0.3947212993513783: 100%|██| 13824/13824 [08:10<00:00, 28.20it/s]\n",
      "Validation Loss: 0.3957672762115228: 100%|████| 744/744 [02:59<00:00,  4.15it/s]\n"
     ]
    },
    {
     "name": "stdout",
     "output_type": "stream",
     "text": [
      "Adjusting learning rate of group 0 to 1.0000e-06.\n",
      "\n",
      "\n",
      "Best model saved.\n",
      "\n"
     ]
    }
   ],
   "source": [
    "train_losses, val_losses = main()"
   ]
  },
  {
   "cell_type": "markdown",
   "id": "c4a22780-1f96-423d-a1df-c37055974f4f",
   "metadata": {},
   "source": [
    "## Plot loss history"
   ]
  },
  {
   "cell_type": "code",
   "execution_count": 10,
   "id": "42980704-338a-4acf-91a7-32e8f3032745",
   "metadata": {},
   "outputs": [
    {
     "data": {
      "image/png": "[encoded data removed]",
      "text/plain": [
       "<Figure size 720x576 with 1 Axes>"
      ]
     },
     "metadata": {
      "needs_background": "light"
     },
     "output_type": "display_data"
    }
   ],
   "source": [
    "plt.figure(figsize=(10, 8))\n",
    "plt.plot(train_losses, label='train')\n",
    "plt.plot(val_losses, label='validation')\n",
    "plt.legend()\n",
    "plt.xlabel('Epoch')\n",
    "plt.ylabel('Loss')\n",
    "plt.show()"
   ]
  },
  {
   "cell_type": "code",
   "execution_count": null,
   "id": "5d8589c2-3b0f-41b5-a71f-0cf5b6fdd3d1",
   "metadata": {},
   "outputs": [],
   "source": []
  }
 ],
 "metadata": {
  "kernelspec": {
   "display_name": "Python 3 (ipykernel)",
   "language": "python",
   "name": "python3"
  },
  "language_info": {
   "codemirror_mode": {
    "name": "ipython",
    "version": 3
   },
   "file_extension": ".py",
   "mimetype": "text/x-python",
   "name": "python",
   "nbconvert_exporter": "python",
   "pygments_lexer": "ipython3",
   "version": "3.8.5"
  }
 },
 "nbformat": 4,
 "nbformat_minor": 5
}
